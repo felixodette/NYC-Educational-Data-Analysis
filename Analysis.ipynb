{
 "metadata": {
  "language_info": {
   "codemirror_mode": {
    "name": "ipython",
    "version": 3
   },
   "file_extension": ".py",
   "mimetype": "text/x-python",
   "name": "python",
   "nbconvert_exporter": "python",
   "pygments_lexer": "ipython3",
   "version": "3.8.5-final"
  },
  "orig_nbformat": 2,
  "kernelspec": {
   "name": "python37164bit4b2afcc42d3048dbb6e9b9f1fe2e85da",
   "display_name": "Python 3.7.1 64-bit",
   "language": "python"
  }
 },
 "nbformat": 4,
 "nbformat_minor": 2,
 "cells": [
  {
   "source": [
    "For the purposes of this project, we'll be using data about New York City public schools, which can be found [here](https://data.cityofnewyork.us/browse?category=Education).\n",
    "\n",
    "One of the most controversial issues in the U.S. educational system is the efficacy of standardized tests, and whether they're unfair to certain groups. Given our prior knowledge of this topic, investigating the correlations between SAT scores and demographics might be an interesting angle to take. We could correlate SAT scores with factors like race, gender, income, and more.\n",
    "\n",
    "The SAT, or Scholastic Aptitude Test, is an exam that U.S. high school students take before applying to college. Colleges take the test scores into account when deciding who to admit, so it's fairly important to perform well on it.\n",
    "\n",
    "The test consists of three sections, each of which has 800 possible points. The combined score is out of 2,400 possible points (while this number has changed a few times, the data set for our project is based on 2,400 total points). Organizations often rank high schools by their average SAT scores. The scores are also considered a measure of overall school district quality.\n",
    "\n",
    "New York City makes its [data on high school SAT scores](https://data.cityofnewyork.us/Education/2012-SAT-Results/f9bf-2cp4) available online, as well as the [demographics for each high school](https://data.cityofnewyork.us/Education/2014-2015-DOE-High-School-Directory/n3p6-zve2).\n",
    "\n",
    "Unfortunately, combining both of the data sets won't give us all of the demographic information we want to use. We'll need to supplement our data with other sources to do our full analysis.\n",
    "\n",
    "The same website has several related data sets covering demographic information and test scores. Here are the links to all of the data sets we'll be using:\n",
    "\n",
    "- [SAT scores by school](https://data.cityofnewyork.us/Education/2012-SAT-Results/f9bf-2cp4) - SAT scores for each high school in New York City\n",
    "- [School attendance](https://data.cityofnewyork.us/Education/2010-2011-School-Attendance-and-Enrollment-Statist/7z8d-msnt) - Attendance information for each school in New York City\n",
    "- [Class size](https://data.cityofnewyork.us/Education/2010-2011-Class-Size-School-level-detail/urz7-pzb3) - Information on class size for each school\n",
    "- [AP test results](https://data.cityofnewyork.us/Education/2010-AP-College-Board-School-Level-Results/itfs-ms3e) - Advanced Placement (AP) exam results for each high school (passing an optional AP exam in a particular subject can earn a student college credit in that subject)\n",
    "- [Graduation outcomes](https://data.cityofnewyork.us/Education/2005-2010-Graduation-Outcomes-School-Level/vh2h-md7a) - The percentage of students who graduated, and other outcome information\n",
    "- [Demographics](https://data.cityofnewyork.us/Education/2006-2012-School-Demographics-and-Accountability-S/ihfw-zy9j) - Demographic information for each school\n",
    "- [School survey](https://data.cityofnewyork.us/Education/2011-NYC-School-Survey/mnz3-dyi8) - Surveys of parents, teachers, and students at each school\n",
    "\n",
    "All of these data sets are interrelated. We'll need to combine them into a single data set before we can find correlations."
   ],
   "cell_type": "markdown",
   "metadata": {}
  },
  {
   "source": [
    "Let's do some background research. A thorough understanding of the data will help us avoid costly mistakes, such as thinking that a column represents something other than what it does. Background research will also give us a better understanding of how to combine and analyze the data.\n",
    "\n",
    "In this case, we'll want to research:\n",
    "\n",
    "- [New York City](https://en.wikipedia.org/wiki/New_York_City)\n",
    "- [The SAT](https://en.wikipedia.org/wiki/SAT)\n",
    "- [Schools in New York City](https://en.wikipedia.org/wiki/List_of_high_schools_in_New_York_City)\n",
    "- [Our data](https://data.cityofnewyork.us/browse?category=Education)\n",
    "\n",
    "We can learn a few different things from these resources. For example:\n",
    "\n",
    "- Only high school students take the SAT, so we'll want to focus on high schools.\n",
    "- New York City is made up of five boroughs, which are essentially distinct regions.\n",
    "- New York City schools fall within several different school districts, each of which can contains dozens of schools.\n",
    "- Our data sets include several different types of schools. We'll need to clean them so that we can focus on high schools only.\n",
    "- Each school in New York City has a unique code called a DBN, or district borough number.\n",
    "- Aggregating data by district will allow us to use the district mapping data to plot district-by-district differences."
   ],
   "cell_type": "markdown",
   "metadata": {}
  },
  {
   "cell_type": "code",
   "execution_count": 1,
   "metadata": {},
   "outputs": [],
   "source": [
    "# imoprt required packages\n",
    "import pandas as pd\n",
    "import re\n"
   ]
  },
  {
   "cell_type": "code",
   "execution_count": 2,
   "metadata": {},
   "outputs": [],
   "source": [
    "# read data from files into a dictionary\n",
    "data_files = [\"ap_2010.csv\",\"class_size.csv\",\"demographics.csv\",\"graduation.csv\",\"hs_directory.csv\",\"sat_results.csv\"]\n",
    "data = {}\n",
    "for f in data_files:\n",
    "    d = pd.read_csv('data/{0}'.format(f))\n",
    "    key_name = f.replace('.csv','')\n",
    "    data[key_name] = d"
   ]
  },
  {
   "source": [
    "What we're mainly interested in is the SAT data set, which corresponds to the dictionary key sat_results. This data set contains the SAT scores for each high school in New York City. We eventually want to correlate selected information from this data set with information in the other data sets.\n",
    "\n",
    "Let's explore sat_results to see what we can discover."
   ],
   "cell_type": "markdown",
   "metadata": {}
  },
  {
   "cell_type": "code",
   "execution_count": 3,
   "metadata": {},
   "outputs": [
    {
     "output_type": "stream",
     "name": "stdout",
     "text": [
      "      DBN                                    SCHOOL NAME  \\\n0  01M292  HENRY STREET SCHOOL FOR INTERNATIONAL STUDIES   \n1  01M448            UNIVERSITY NEIGHBORHOOD HIGH SCHOOL   \n2  01M450                     EAST SIDE COMMUNITY SCHOOL   \n3  01M458                      FORSYTH SATELLITE ACADEMY   \n4  01M509                        MARTA VALLE HIGH SCHOOL   \n\n  Num of SAT Test Takers SAT Critical Reading Avg. Score SAT Math Avg. Score  \\\n0                     29                             355                 404   \n1                     91                             383                 423   \n2                     70                             377                 402   \n3                      7                             414                 401   \n4                     44                             390                 433   \n\n  SAT Writing Avg. Score  \n0                    363  \n1                    366  \n2                    370  \n3                    359  \n4                    384  \n"
     ]
    }
   ],
   "source": [
    "print(data['sat_results'].head())"
   ]
  },
  {
   "source": [
    "We can make a few observations based on this output:\n",
    "\n",
    "The DBN appears to be a unique ID for each school.\n",
    "- We can tell from the first few rows of names that we only have data about high schools.\n",
    "- There's only a single row for each high school, so each DBN is unique in the SAT data.\n",
    "- We may eventually want to combine the three columns that contain SAT scores -- SAT Critical Reading Avg. Score, SAT Math Avg. - Score, and SAT Writing Avg. Score -- into a single column to make the scores easier to analyze.\n",
    "\n",
    "Given these observations, let's explore the other data sets to see if we can gain any insight into how to combine them."
   ],
   "cell_type": "markdown",
   "metadata": {}
  },
  {
   "cell_type": "code",
   "execution_count": 4,
   "metadata": {},
   "outputs": [
    {
     "output_type": "stream",
     "name": "stdout",
     "text": [
      "      DBN                             SchoolName  AP Test Takers   \\\n0  01M448           UNIVERSITY NEIGHBORHOOD H.S.             39.0   \n1  01M450                 EAST SIDE COMMUNITY HS             19.0   \n2  01M515                    LOWER EASTSIDE PREP             24.0   \n3  01M539         NEW EXPLORATIONS SCI,TECH,MATH            255.0   \n4  02M296  High School of Hospitality Management              NaN   \n\n   Total Exams Taken  Number of Exams with scores 3 4 or 5  \n0               49.0                                  10.0  \n1               21.0                                   NaN  \n2               26.0                                  24.0  \n3              377.0                                 191.0  \n4                NaN                                   NaN  \n   CSD BOROUGH SCHOOL CODE                SCHOOL NAME GRADE  PROGRAM TYPE  \\\n0    1       M        M015  P.S. 015 Roberto Clemente     0K       GEN ED   \n1    1       M        M015  P.S. 015 Roberto Clemente     0K          CTT   \n2    1       M        M015  P.S. 015 Roberto Clemente     01       GEN ED   \n3    1       M        M015  P.S. 015 Roberto Clemente     01          CTT   \n4    1       M        M015  P.S. 015 Roberto Clemente     02       GEN ED   \n\n  CORE SUBJECT (MS CORE and 9-12 ONLY) CORE COURSE (MS CORE and 9-12 ONLY)  \\\n0                                    -                                   -   \n1                                    -                                   -   \n2                                    -                                   -   \n3                                    -                                   -   \n4                                    -                                   -   \n\n  SERVICE CATEGORY(K-9* ONLY)  NUMBER OF STUDENTS / SEATS FILLED  \\\n0                           -                               19.0   \n1                           -                               21.0   \n2                           -                               17.0   \n3                           -                               17.0   \n4                           -                               15.0   \n\n   NUMBER OF SECTIONS  AVERAGE CLASS SIZE  SIZE OF SMALLEST CLASS  \\\n0                 1.0                19.0                    19.0   \n1                 1.0                21.0                    21.0   \n2                 1.0                17.0                    17.0   \n3                 1.0                17.0                    17.0   \n4                 1.0                15.0                    15.0   \n\n   SIZE OF LARGEST CLASS DATA SOURCE  SCHOOLWIDE PUPIL-TEACHER RATIO  \n0                   19.0         ATS                             NaN  \n1                   21.0         ATS                             NaN  \n2                   17.0         ATS                             NaN  \n3                   17.0         ATS                             NaN  \n4                   15.0         ATS                             NaN  \n      DBN                       Name  schoolyear fl_percent  frl_percent  \\\n0  01M015  P.S. 015 ROBERTO CLEMENTE    20052006       89.4          NaN   \n1  01M015  P.S. 015 ROBERTO CLEMENTE    20062007       89.4          NaN   \n2  01M015  P.S. 015 ROBERTO CLEMENTE    20072008       89.4          NaN   \n3  01M015  P.S. 015 ROBERTO CLEMENTE    20082009       89.4          NaN   \n4  01M015  P.S. 015 ROBERTO CLEMENTE    20092010                    96.5   \n\n   total_enrollment prek   k grade1 grade2  ... black_num black_per  \\\n0               281   15  36     40     33  ...        74      26.3   \n1               243   15  29     39     38  ...        68      28.0   \n2               261   18  43     39     36  ...        77      29.5   \n3               252   17  37     44     32  ...        75      29.8   \n4               208   16  40     28     32  ...        67      32.2   \n\n  hispanic_num hispanic_per white_num white_per male_num male_per female_num  \\\n0          189         67.3         5       1.8    158.0     56.2      123.0   \n1          153         63.0         4       1.6    140.0     57.6      103.0   \n2          157         60.2         7       2.7    143.0     54.8      118.0   \n3          149         59.1         7       2.8    149.0     59.1      103.0   \n4          118         56.7         6       2.9    124.0     59.6       84.0   \n\n  female_per  \n0       43.8  \n1       42.4  \n2       45.2  \n3       40.9  \n4       40.4  \n\n[5 rows x 38 columns]\n    Demographic     DBN                            School Name    Cohort  \\\n0  Total Cohort  01M292  HENRY STREET SCHOOL FOR INTERNATIONAL      2003   \n1  Total Cohort  01M292  HENRY STREET SCHOOL FOR INTERNATIONAL      2004   \n2  Total Cohort  01M292  HENRY STREET SCHOOL FOR INTERNATIONAL      2005   \n3  Total Cohort  01M292  HENRY STREET SCHOOL FOR INTERNATIONAL      2006   \n4  Total Cohort  01M292  HENRY STREET SCHOOL FOR INTERNATIONAL  2006 Aug   \n\n   Total Cohort Total Grads - n  Total Grads - % of cohort Total Regents - n  \\\n0             5               s                        NaN                 s   \n1            55              37                       67.3                17   \n2            64              43                       67.2                27   \n3            78              43                       55.1                36   \n4            78              44                       56.4                37   \n\n   Total Regents - % of cohort  Total Regents - % of grads  ...  \\\n0                          NaN                         NaN  ...   \n1                         30.9                        45.9  ...   \n2                         42.2                        62.8  ...   \n3                         46.2                        83.7  ...   \n4                         47.4                        84.1  ...   \n\n  Regents w/o Advanced - n  Regents w/o Advanced - % of cohort  \\\n0                        s                                 NaN   \n1                       17                                30.9   \n2                       27                                42.2   \n3                       36                                46.2   \n4                       37                                47.4   \n\n   Regents w/o Advanced - % of grads Local - n  Local - % of cohort  \\\n0                                NaN         s                  NaN   \n1                               45.9        20                 36.4   \n2                               62.8        16                 25.0   \n3                               83.7         7                  9.0   \n4                               84.1         7                  9.0   \n\n   Local - % of grads Still Enrolled - n  Still Enrolled - % of cohort  \\\n0                 NaN                  s                           NaN   \n1                54.1                 15                          27.3   \n2                37.2                  9                          14.1   \n3                16.3                 16                          20.5   \n4                15.9                 15                          19.2   \n\n   Dropped Out - n Dropped Out - % of cohort  \n0                s                       NaN  \n1                3                       5.5  \n2                9                      14.1  \n3               11                      14.1  \n4               11                      14.1  \n\n[5 rows x 23 columns]\n      dbn                                        school_name    borough  \\\n0  27Q260          Frederick Douglass Academy VI High School     Queens   \n1  21K559        Life Academy High School for Film and Music   Brooklyn   \n2  16K393     Frederick Douglass Academy IV Secondary School   Brooklyn   \n3  08X305                               Pablo Neruda Academy      Bronx   \n4  03M485  Fiorello H. LaGuardia High School of Music & A...  Manhattan   \n\n  building_code  phone_number    fax_number  grade_span_min  grade_span_max  \\\n0          Q465  718-471-2154  718-471-2890             9.0              12   \n1          K400  718-333-7750  718-333-7775             9.0              12   \n2          K026  718-574-2820  718-574-2821             9.0              12   \n3          X450  718-824-1682  718-824-1663             9.0              12   \n4          M485  212-496-0700  212-724-5748             9.0              12   \n\n   expgrade_span_min  expgrade_span_max  ... priority08 priority09 priority10  \\\n0                NaN                NaN  ...        NaN        NaN        NaN   \n1                NaN                NaN  ...        NaN        NaN        NaN   \n2                NaN                NaN  ...        NaN        NaN        NaN   \n3                NaN                NaN  ...        NaN        NaN        NaN   \n4                NaN                NaN  ...        NaN        NaN        NaN   \n\n                                          Location 1 Community Board  \\\n0  8 21 Bay 25 Street\\nFar Rockaway, NY 11691\\n(4...            14.0   \n1  2630 Benson Avenue\\nBrooklyn, NY 11214\\n(40.59...            13.0   \n2  1014 Lafayette Avenue\\nBrooklyn, NY 11221\\n(40...             3.0   \n3  1980 Lafayette Avenue\\nBronx, NY 10473\\n(40.82...             9.0   \n4  100 Amsterdam Avenue\\nNew York, NY 10023\\n(40....             7.0   \n\n   Council District Census Tract        BIN           BBL  \\\n0              31.0     100802.0  4300730.0  4.157360e+09   \n1              47.0        306.0  3186454.0  3.068830e+09   \n2              36.0        291.0  3393805.0  3.016160e+09   \n3              18.0         16.0  2022205.0  2.036040e+09   \n4               6.0        151.0  1030341.0  1.011560e+09   \n\n                                                 NTA  \n0  Far Rockaway-Bayswater                        ...  \n1  Gravesend                                     ...  \n2  Stuyvesant Heights                            ...  \n3  Soundview-Castle Hill-Clason Point-Harding Par...  \n4  Lincoln Square                                ...  \n\n[5 rows x 64 columns]\n      DBN                                    SCHOOL NAME  \\\n0  01M292  HENRY STREET SCHOOL FOR INTERNATIONAL STUDIES   \n1  01M448            UNIVERSITY NEIGHBORHOOD HIGH SCHOOL   \n2  01M450                     EAST SIDE COMMUNITY SCHOOL   \n3  01M458                      FORSYTH SATELLITE ACADEMY   \n4  01M509                        MARTA VALLE HIGH SCHOOL   \n\n  Num of SAT Test Takers SAT Critical Reading Avg. Score SAT Math Avg. Score  \\\n0                     29                             355                 404   \n1                     91                             383                 423   \n2                     70                             377                 402   \n3                      7                             414                 401   \n4                     44                             390                 433   \n\n  SAT Writing Avg. Score  \n0                    363  \n1                    366  \n2                    370  \n3                    359  \n4                    384  \n"
     ]
    }
   ],
   "source": [
    "for key in data:\n",
    "    print(data[key].head())"
   ]
  },
  {
   "source": [
    "We can make some observations based on the first few rows of each one.\n",
    "\n",
    "- Each data set appears to either have a DBN column, or the information we need to create one. That means we can use a DBN column to combine the data sets. First we'll pinpoint matching rows from different data sets by looking for identical DBNs, then group all of their columns together in a single data set.\n",
    "- Some fields look interesting for mapping -- particularly Location 1, which contains coordinates inside a larger string.\n",
    "Some of the data sets appear to contain multiple rows for each school (because the rows have duplicate DBN values). That means we’ll have to do some preprocessing to ensure that each DBN is unique within each data set. If we don't do this, we'll run into problems when we combine the data sets, because we might be merging two rows in one data set with one row in another data set.\n",
    "\n",
    "Before we proceed with the merge, we should make sure we have all of the data we want to unify."
   ],
   "cell_type": "markdown",
   "metadata": {}
  },
  {
   "cell_type": "code",
   "execution_count": 8,
   "metadata": {},
   "outputs": [
    {
     "output_type": "stream",
     "name": "stdout",
     "text": [
      "     N_p    N_s   N_t  aca_p_11  aca_s_11  aca_t_11  aca_tot_11    bn  \\\n0   90.0    NaN  22.0       7.8       NaN       7.9         7.9  M015   \n1  161.0    NaN  34.0       7.8       NaN       9.1         8.4  M019   \n2  367.0    NaN  42.0       8.6       NaN       7.5         8.0  M020   \n3  151.0  145.0  29.0       8.5       7.4       7.8         7.9  M034   \n4   90.0    NaN  23.0       7.9       NaN       8.1         8.0  M063   \n\n   com_p_11  com_s_11  ...  t_q8c_1  t_q8c_2  t_q8c_3 t_q8c_4  t_q9  t_q9_1  \\\n0       7.6       NaN  ...     29.0     67.0      5.0     0.0   NaN     5.0   \n1       7.6       NaN  ...     74.0     21.0      6.0     0.0   NaN     3.0   \n2       8.3       NaN  ...     33.0     35.0     20.0    13.0   NaN     3.0   \n3       8.2       5.9  ...     21.0     45.0     28.0     7.0   NaN     0.0   \n4       7.9       NaN  ...     59.0     36.0      5.0     0.0   NaN    10.0   \n\n   t_q9_2  t_q9_3  t_q9_4  t_q9_5  \n0    14.0    52.0    24.0     5.0  \n1     6.0     3.0    78.0     9.0  \n2     5.0    16.0    70.0     5.0  \n3    18.0    32.0    39.0    11.0  \n4     5.0    10.0    60.0    15.0  \n\n[5 rows x 2773 columns]\n"
     ]
    }
   ],
   "source": [
    "all_survey = pd.read_csv('data/2011_data_files/masterfile11_gened_final.txt', delimiter='\\t', encoding='windows-1252')\n",
    "d75_survey = pd.read_csv('data/2011_data_files/masterfile11_d75_final.txt', delimiter='\\t', encoding='windows-1252')\n",
    "survey = pd.concat([all_survey,d75_survey], axis=0)\n",
    "print(survey.head())"
   ]
  },
  {
   "source": [
    "There are two immediate facts that we can see in the data:\n",
    "\n",
    "- There are over 2000 columns, nearly all of which we don't need. We'll have to filter the data to remove the unnecessary ones. Working with fewer columns will make it easier to print the dataframe out and find correlations within it.\n",
    "- The survey data has a dbn column that we'll want to convert to uppercase (DBN). The conversion will make the column name consistent with the other data sets.\n",
    "\n",
    "First, we'll need to filter the columns to remove the ones we don't need. Luckily, there's a data dictionary at the original data download location. The dictionary tells us what each column represents. Based on our knowledge of the problem and the analysis we're trying to do, we can use the data dictionary to determine which columns to use."
   ],
   "cell_type": "markdown",
   "metadata": {}
  },
  {
   "cell_type": "code",
   "execution_count": 9,
   "metadata": {},
   "outputs": [
    {
     "output_type": "stream",
     "name": "stdout",
     "text": [
      "      DBN  rr_s  rr_t  rr_p    N_s   N_t    N_p  saf_p_11  com_p_11  eng_p_11  \\\n0  01M015   NaN    88    60    NaN  22.0   90.0       8.5       7.6       7.5   \n1  01M019   NaN   100    60    NaN  34.0  161.0       8.4       7.6       7.6   \n2  01M020   NaN    88    73    NaN  42.0  367.0       8.9       8.3       8.3   \n3  01M034  89.0    73    50  145.0  29.0  151.0       8.8       8.2       8.0   \n4  01M063   NaN   100    60    NaN  23.0   90.0       8.7       7.9       8.1   \n\n   ...  eng_t_11  aca_t_11  saf_s_11  com_s_11  eng_s_11  aca_s_11  \\\n0  ...       7.6       7.9       NaN       NaN       NaN       NaN   \n1  ...       8.9       9.1       NaN       NaN       NaN       NaN   \n2  ...       6.8       7.5       NaN       NaN       NaN       NaN   \n3  ...       6.8       7.8       6.2       5.9       6.5       7.4   \n4  ...       7.8       8.1       NaN       NaN       NaN       NaN   \n\n   saf_tot_11  com_tot_11  eng_tot_11  aca_tot_11  \n0         8.0         7.7         7.5         7.9  \n1         8.5         8.1         8.2         8.4  \n2         8.2         7.3         7.5         8.0  \n3         7.3         6.7         7.1         7.9  \n4         8.5         7.6         7.9         8.0  \n\n[5 rows x 23 columns]\n"
     ]
    }
   ],
   "source": [
    "survey['DBN'] = survey['dbn']\n",
    "cols = [\"DBN\", \"rr_s\", \"rr_t\", \"rr_p\", \"N_s\", \"N_t\", \"N_p\", \"saf_p_11\", \"com_p_11\", \"eng_p_11\", \"aca_p_11\", \"saf_t_11\", \"com_t_11\", \"eng_t_11\", \"aca_t_11\", \"saf_s_11\", \"com_s_11\", \"eng_s_11\", \"aca_s_11\", \"saf_tot_11\", \"com_tot_11\", \"eng_tot_11\", \"aca_tot_11\"]\n",
    "survey = survey.loc[:,cols]\n",
    "data['survey'] = survey \n",
    "print(survey.head())"
   ]
  },
  {
   "cell_type": "code",
   "execution_count": 10,
   "metadata": {},
   "outputs": [
    {
     "output_type": "stream",
     "name": "stdout",
     "text": [
      "   CSD BOROUGH SCHOOL CODE                SCHOOL NAME GRADE  PROGRAM TYPE  \\\n0    1       M        M015  P.S. 015 Roberto Clemente     0K       GEN ED   \n1    1       M        M015  P.S. 015 Roberto Clemente     0K          CTT   \n2    1       M        M015  P.S. 015 Roberto Clemente     01       GEN ED   \n3    1       M        M015  P.S. 015 Roberto Clemente     01          CTT   \n4    1       M        M015  P.S. 015 Roberto Clemente     02       GEN ED   \n\n  CORE SUBJECT (MS CORE and 9-12 ONLY) CORE COURSE (MS CORE and 9-12 ONLY)  \\\n0                                    -                                   -   \n1                                    -                                   -   \n2                                    -                                   -   \n3                                    -                                   -   \n4                                    -                                   -   \n\n  SERVICE CATEGORY(K-9* ONLY)  NUMBER OF STUDENTS / SEATS FILLED  \\\n0                           -                               19.0   \n1                           -                               21.0   \n2                           -                               17.0   \n3                           -                               17.0   \n4                           -                               15.0   \n\n   NUMBER OF SECTIONS  AVERAGE CLASS SIZE  SIZE OF SMALLEST CLASS  \\\n0                 1.0                19.0                    19.0   \n1                 1.0                21.0                    21.0   \n2                 1.0                17.0                    17.0   \n3                 1.0                17.0                    17.0   \n4                 1.0                15.0                    15.0   \n\n   SIZE OF LARGEST CLASS DATA SOURCE  SCHOOLWIDE PUPIL-TEACHER RATIO  \\\n0                   19.0         ATS                             NaN   \n1                   21.0         ATS                             NaN   \n2                   17.0         ATS                             NaN   \n3                   17.0         ATS                             NaN   \n4                   15.0         ATS                             NaN   \n\n  padded_csd     DBN  \n0         01  01M015  \n1         01  01M015  \n2         01  01M015  \n3         01  01M015  \n4         01  01M015  \n"
     ]
    }
   ],
   "source": [
    "data['hs_directory']['DBN'] = data['hs_directory']['dbn']\n",
    "\n",
    "def pad_csd(num):\n",
    "    return str(num).zfill(2)\n",
    "\n",
    "data['class_size']['padded_csd'] = data['class_size']['CSD'].apply(pad_csd)\n",
    "data['class_size']['DBN'] = data['class_size']['padded_csd'] + data['class_size']['SCHOOL CODE']\n",
    "print(data['class_size'].head())"
   ]
  },
  {
   "source": [
    "Now we're almost ready to combine our data sets. Before we do, let's take some time to calculate variables that will be useful in our analysis. "
   ],
   "cell_type": "markdown",
   "metadata": {}
  },
  {
   "cell_type": "code",
   "execution_count": 11,
   "metadata": {},
   "outputs": [
    {
     "output_type": "stream",
     "name": "stdout",
     "text": [
      "0    1122.0\n1    1172.0\n2    1149.0\n3    1174.0\n4    1207.0\nName: sat_score, dtype: float64\n"
     ]
    }
   ],
   "source": [
    "cols = ['SAT Math Avg. Score', 'SAT Critical Reading Avg. Score', 'SAT Writing Avg. Score']\n",
    "\n",
    "for c in cols:\n",
    "    data['sat_results'][c] = pd.to_numeric(data['sat_results'][c], errors='coerce')\n",
    "data['sat_results']['sat_score'] = data['sat_results'][cols[0]] + data['sat_results'][cols[1]] + data['sat_results'][cols[2]]\n",
    "print(data['sat_results']['sat_score'].head())"
   ]
  },
  {
   "source": [
    "Next, we'll want to parse the latitude and longitude coordinates for each school. This will enable us to map the schools and uncover any geographic patterns in the data. The coordinates are currently in the text field Location 1 in the hs_directory data set."
   ],
   "cell_type": "markdown",
   "metadata": {}
  },
  {
   "cell_type": "code",
   "execution_count": 12,
   "metadata": {},
   "outputs": [
    {
     "output_type": "stream",
     "name": "stdout",
     "text": [
      "      dbn                                        school_name    borough  \\\n0  27Q260          Frederick Douglass Academy VI High School     Queens   \n1  21K559        Life Academy High School for Film and Music   Brooklyn   \n2  16K393     Frederick Douglass Academy IV Secondary School   Brooklyn   \n3  08X305                               Pablo Neruda Academy      Bronx   \n4  03M485  Fiorello H. LaGuardia High School of Music & A...  Manhattan   \n\n  building_code  phone_number    fax_number  grade_span_min  grade_span_max  \\\n0          Q465  718-471-2154  718-471-2890             9.0              12   \n1          K400  718-333-7750  718-333-7775             9.0              12   \n2          K026  718-574-2820  718-574-2821             9.0              12   \n3          X450  718-824-1682  718-824-1663             9.0              12   \n4          M485  212-496-0700  212-724-5748             9.0              12   \n\n   expgrade_span_min  expgrade_span_max  ... priority10  \\\n0                NaN                NaN  ...        NaN   \n1                NaN                NaN  ...        NaN   \n2                NaN                NaN  ...        NaN   \n3                NaN                NaN  ...        NaN   \n4                NaN                NaN  ...        NaN   \n\n                                          Location 1 Community Board  \\\n0  8 21 Bay 25 Street\\nFar Rockaway, NY 11691\\n(4...            14.0   \n1  2630 Benson Avenue\\nBrooklyn, NY 11214\\n(40.59...            13.0   \n2  1014 Lafayette Avenue\\nBrooklyn, NY 11221\\n(40...             3.0   \n3  1980 Lafayette Avenue\\nBronx, NY 10473\\n(40.82...             9.0   \n4  100 Amsterdam Avenue\\nNew York, NY 10023\\n(40....             7.0   \n\n  Council District Census Tract        BIN           BBL  \\\n0             31.0     100802.0  4300730.0  4.157360e+09   \n1             47.0        306.0  3186454.0  3.068830e+09   \n2             36.0        291.0  3393805.0  3.016160e+09   \n3             18.0         16.0  2022205.0  2.036040e+09   \n4              6.0        151.0  1030341.0  1.011560e+09   \n\n                                                 NTA     DBN           lat  \n0  Far Rockaway-Bayswater                        ...  27Q260  40.601989336  \n1  Gravesend                                     ...  21K559  40.593593811  \n2  Stuyvesant Heights                            ...  16K393  40.692133704  \n3  Soundview-Castle Hill-Clason Point-Harding Par...  08X305  40.822303765  \n4  Lincoln Square                                ...  03M485  40.773670507  \n\n[5 rows x 66 columns]\n"
     ]
    }
   ],
   "source": [
    "def find_lat(loc):\n",
    "    coords = re.findall('\\(.+\\)', loc)\n",
    "    lat = coords[0].split(',')[0].replace('(','')\n",
    "    return lat\n",
    "\n",
    "data['hs_directory']['lat'] = data['hs_directory']['Location 1'].apply(find_lat)\n",
    "\n",
    "print(data['hs_directory'].head())"
   ]
  },
  {
   "source": [
    "On the last screen, we parsed the latitude from the Location 1 column. Now we'll just need to do the same for the longitude."
   ],
   "cell_type": "markdown",
   "metadata": {}
  },
  {
   "cell_type": "code",
   "execution_count": 14,
   "metadata": {},
   "outputs": [
    {
     "output_type": "stream",
     "name": "stdout",
     "text": [
      "      dbn                                        school_name    borough  \\\n0  27Q260          Frederick Douglass Academy VI High School     Queens   \n1  21K559        Life Academy High School for Film and Music   Brooklyn   \n2  16K393     Frederick Douglass Academy IV Secondary School   Brooklyn   \n3  08X305                               Pablo Neruda Academy      Bronx   \n4  03M485  Fiorello H. LaGuardia High School of Music & A...  Manhattan   \n\n  building_code  phone_number    fax_number  grade_span_min  grade_span_max  \\\n0          Q465  718-471-2154  718-471-2890             9.0              12   \n1          K400  718-333-7750  718-333-7775             9.0              12   \n2          K026  718-574-2820  718-574-2821             9.0              12   \n3          X450  718-824-1682  718-824-1663             9.0              12   \n4          M485  212-496-0700  212-724-5748             9.0              12   \n\n   expgrade_span_min  expgrade_span_max  ...  \\\n0                NaN                NaN  ...   \n1                NaN                NaN  ...   \n2                NaN                NaN  ...   \n3                NaN                NaN  ...   \n4                NaN                NaN  ...   \n\n                                          Location 1 Community Board  \\\n0  8 21 Bay 25 Street\\nFar Rockaway, NY 11691\\n(4...            14.0   \n1  2630 Benson Avenue\\nBrooklyn, NY 11214\\n(40.59...            13.0   \n2  1014 Lafayette Avenue\\nBrooklyn, NY 11221\\n(40...             3.0   \n3  1980 Lafayette Avenue\\nBronx, NY 10473\\n(40.82...             9.0   \n4  100 Amsterdam Avenue\\nNew York, NY 10023\\n(40....             7.0   \n\n  Council District Census Tract        BIN           BBL  \\\n0             31.0     100802.0  4300730.0  4.157360e+09   \n1             47.0        306.0  3186454.0  3.068830e+09   \n2             36.0        291.0  3393805.0  3.016160e+09   \n3             18.0         16.0  2022205.0  2.036040e+09   \n4              6.0        151.0  1030341.0  1.011560e+09   \n\n                                                 NTA     DBN        lat  \\\n0  Far Rockaway-Bayswater                        ...  27Q260  40.601989   \n1  Gravesend                                     ...  21K559  40.593594   \n2  Stuyvesant Heights                            ...  16K393  40.692134   \n3  Soundview-Castle Hill-Clason Point-Harding Par...  08X305  40.822304   \n4  Lincoln Square                                ...  03M485  40.773671   \n\n         lon  \n0 -73.762834  \n1 -73.984729  \n2 -73.931503  \n3 -73.855961  \n4 -73.985269  \n\n[5 rows x 67 columns]\n"
     ]
    }
   ],
   "source": [
    "def find_lon(loc):\n",
    "    coords = re.findall(\"\\(.+\\)\", loc)\n",
    "    lon = coords[0].split(\",\")[1].replace(\")\", \"\").strip()\n",
    "    return lon\n",
    "\n",
    "data[\"hs_directory\"][\"lon\"] = data[\"hs_directory\"][\"Location 1\"].apply(find_lon)\n",
    "\n",
    "data[\"hs_directory\"][\"lat\"] = pd.to_numeric(data[\"hs_directory\"][\"lat\"], errors=\"coerce\")\n",
    "data[\"hs_directory\"][\"lon\"] = pd.to_numeric(data[\"hs_directory\"][\"lon\"], errors=\"coerce\")\n",
    "\n",
    "print(data[\"hs_directory\"].head())"
   ]
  },
  {
   "cell_type": "code",
   "execution_count": null,
   "metadata": {},
   "outputs": [],
   "source": []
  }
 ]
}